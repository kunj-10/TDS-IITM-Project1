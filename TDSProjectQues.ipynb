{
 "cells": [
  {
   "cell_type": "code",
   "execution_count": 1,
   "id": "e9d525be-143e-44df-8ad1-b030c2f0e434",
   "metadata": {},
   "outputs": [],
   "source": [
    "import pandas as pd\n",
    "from sklearn.linear_model import LinearRegression\n",
    "import numpy as np\n",
    "users_df = pd.read_csv('users.csv') #Load the users.csv\n",
    "repos_df = pd.read_csv('repositories.csv') #Load the repositories.csv"
   ]
  },
  {
   "cell_type": "markdown",
   "id": "a83cfaae",
   "metadata": {},
   "source": [
    "# Question 1"
   ]
  },
  {
   "cell_type": "code",
   "execution_count": 2,
   "id": "eed554f4-494a-42c8-82fe-05fd499d7e4a",
   "metadata": {},
   "outputs": [
    {
     "name": "stdout",
     "output_type": "stream",
     "text": [
      "IDouble,TheOfficialFloW,Seldaek,riscv,JonnyBurger\n"
     ]
    }
   ],
   "source": [
    "top_users = users_df.copy()\n",
    "top_users = top_users.sort_values(by='followers', ascending=False).head(5)\n",
    "top_users_login = ','.join(top_users['login'].tolist())\n",
    "print(top_users_login)"
   ]
  },
  {
   "cell_type": "markdown",
   "id": "f2ab5134-bfac-446a-b026-e0d1c8267267",
   "metadata": {},
   "source": [
    "# Question 2"
   ]
  },
  {
   "cell_type": "code",
   "execution_count": 3,
   "id": "bd98d4df-0c7f-4c61-8b80-e422034cfe94",
   "metadata": {},
   "outputs": [
    {
     "name": "stdout",
     "output_type": "stream",
     "text": [
      "lejoe,uwolfer,matthiask,oscardelben,panterch\n"
     ]
    }
   ],
   "source": [
    "earliest_users = users_df.copy()\n",
    "earliest_users = earliest_users.sort_values(by='created_at').head(5)\n",
    "earliest_users_login = ','.join(earliest_users['login'].tolist())\n",
    "print(earliest_users_login)"
   ]
  },
  {
   "cell_type": "markdown",
   "id": "537dffad-17a9-42c6-b5fe-e7c60eaa6e99",
   "metadata": {},
   "source": [
    "# Question 3"
   ]
  },
  {
   "cell_type": "code",
   "execution_count": 4,
   "id": "df60a724-ea0f-4a57-bba7-3a3611498885",
   "metadata": {},
   "outputs": [
    {
     "name": "stdout",
     "output_type": "stream",
     "text": [
      "mit,other,apache-2.0\n"
     ]
    }
   ],
   "source": [
    "licenses = repos_df['license_name']\n",
    "top_licenses = licenses.value_counts().head(3)\n",
    "print(','.join(top_licenses.index))"
   ]
  },
  {
   "cell_type": "markdown",
   "id": "76abaacf-116a-4513-be31-06e987d2d330",
   "metadata": {},
   "source": [
    "# Question 4"
   ]
  },
  {
   "cell_type": "code",
   "execution_count": 5,
   "id": "9770bef6-15ad-4aac-b226-153c4dcfaa15",
   "metadata": {},
   "outputs": [
    {
     "name": "stdout",
     "output_type": "stream",
     "text": [
      "GOOGLE\n"
     ]
    }
   ],
   "source": [
    "companies = users_df['company']\n",
    "top_company = companies.value_counts().head(1)\n",
    "print(top_company.index[0])"
   ]
  },
  {
   "cell_type": "markdown",
   "id": "25541976-a464-4ae6-8a9d-ea2189a4827a",
   "metadata": {},
   "source": [
    "# Question 5"
   ]
  },
  {
   "cell_type": "code",
   "execution_count": 6,
   "id": "b65d21a4-eeea-4866-8b53-be0ac4d26d72",
   "metadata": {},
   "outputs": [
    {
     "name": "stdout",
     "output_type": "stream",
     "text": [
      "Python\n"
     ]
    }
   ],
   "source": [
    "languages = repos_df['language']\n",
    "top_language = languages.value_counts().head(1)\n",
    "print(top_language.index[0])"
   ]
  },
  {
   "cell_type": "markdown",
   "id": "47d9ccd9-004e-488f-abc3-79b5f7e4b977",
   "metadata": {},
   "source": [
    "# Question 6"
   ]
  },
  {
   "cell_type": "code",
   "execution_count": 7,
   "id": "071bef4d-d505-49ab-a32d-c0c897b86e1c",
   "metadata": {},
   "outputs": [
    {
     "name": "stdout",
     "output_type": "stream",
     "text": [
      "JavaScript\n"
     ]
    }
   ],
   "source": [
    "users_df_copy = users_df.copy()\n",
    "users_df_copy['created_at'] = pd.to_datetime(users_df_copy['created_at'])\n",
    "users_df_copy = users_df_copy[users_df_copy['created_at'] >= '2020-01-01']\n",
    "merge_users_repos = pd.merge(users_df_copy, repos_df, on='login')\n",
    "print(merge_users_repos['language'].value_counts().head(2).index[1])"
   ]
  },
  {
   "cell_type": "markdown",
   "id": "c4fff24e",
   "metadata": {},
   "source": [
    "# Question 7"
   ]
  },
  {
   "cell_type": "code",
   "execution_count": 8,
   "id": "9119d25d",
   "metadata": {},
   "outputs": [
    {
     "name": "stdout",
     "output_type": "stream",
     "text": [
      "BitBake\n"
     ]
    }
   ],
   "source": [
    "avg_stars = repos_df.groupby('language')['stargazers_count'].mean()\n",
    "print(avg_stars.idxmax())"
   ]
  },
  {
   "cell_type": "markdown",
   "id": "ba372335",
   "metadata": {},
   "source": [
    "# Question 8"
   ]
  },
  {
   "cell_type": "code",
   "execution_count": 9,
   "id": "b3fa789d",
   "metadata": {},
   "outputs": [
    {
     "name": "stdout",
     "output_type": "stream",
     "text": [
      "riscv,bpasero,Seldaek,egamma,ethz-asl\n"
     ]
    }
   ],
   "source": [
    "top_leaders = users_df.copy()\n",
    "top_leaders['leader_strength'] = users_df['followers']/(1 + top_leaders['following'])\n",
    "top_leaders = top_leaders.sort_values(by='leader_strength', ascending=False).head(5)\n",
    "print(','.join(top_leaders['login'].to_list()))"
   ]
  },
  {
   "cell_type": "markdown",
   "id": "6e125fa8",
   "metadata": {},
   "source": [
    "# Question 9"
   ]
  },
  {
   "cell_type": "code",
   "execution_count": 10,
   "id": "a4121acd",
   "metadata": {},
   "outputs": [
    {
     "name": "stdout",
     "output_type": "stream",
     "text": [
      "0.065\n"
     ]
    }
   ],
   "source": [
    "print(f\"{users_df['followers'].corr(users_df['public_repos']):.3f}\")"
   ]
  },
  {
   "cell_type": "markdown",
   "id": "b6cfc9e9",
   "metadata": {},
   "source": [
    "# Question 10"
   ]
  },
  {
   "cell_type": "code",
   "execution_count": 11,
   "id": "a5d9be13",
   "metadata": {},
   "outputs": [
    {
     "name": "stdout",
     "output_type": "stream",
     "text": [
      "Slope: 1.477\n"
     ]
    }
   ],
   "source": [
    "X = users_df[['public_repos']]\n",
    "y = users_df['followers']\n",
    "\n",
    "model = LinearRegression()\n",
    "model.fit(X, y)\n",
    "\n",
    "print(f\"Slope: {model.coef_[0]:.3f}\")"
   ]
  },
  {
   "cell_type": "markdown",
   "id": "6ef2a520",
   "metadata": {},
   "source": [
    "# Question 11"
   ]
  },
  {
   "cell_type": "code",
   "execution_count": 12,
   "id": "7a6db9f0",
   "metadata": {},
   "outputs": [
    {
     "name": "stdout",
     "output_type": "stream",
     "text": [
      "Correlation between repo having project enabled and wiki enabled are: 0.312\n"
     ]
    }
   ],
   "source": [
    "print(f\"Correlation between repo having project enabled and wiki enabled are: {repos_df['has_wiki'].corr(repos_df['has_projects']):.3f}\")"
   ]
  },
  {
   "cell_type": "markdown",
   "id": "de909d9c",
   "metadata": {},
   "source": [
    "# Question 12"
   ]
  },
  {
   "cell_type": "code",
   "execution_count": 19,
   "id": "2a231299",
   "metadata": {},
   "outputs": [
    {
     "name": "stdout",
     "output_type": "stream",
     "text": [
      "-842.766\n"
     ]
    }
   ],
   "source": [
    "hireable_users = users_df[users_df['hireable'] == True]\n",
    "other_users = users_df[users_df['hireable'] != True]\n",
    "\n",
    "hireable_users_avg_following = hireable_users['following'].mean()\n",
    "other_users_avg_following = other_users['following'].mean()\n",
    "\n",
    "print(f\"{(hireable_users_avg_following - other_users_avg_following):.3f}\")"
   ]
  },
  {
   "cell_type": "markdown",
   "id": "778945b8",
   "metadata": {},
   "source": [
    "# Question 13"
   ]
  },
  {
   "cell_type": "code",
   "execution_count": 15,
   "id": "f8524eaf",
   "metadata": {},
   "outputs": [
    {
     "name": "stdout",
     "output_type": "stream",
     "text": [
      "Slope of followers on bio word count: 40.853\n"
     ]
    }
   ],
   "source": [
    "req_users = users_df[users_df['bio'].notnull()].copy()\n",
    "req_users.loc[:, 'bio_length'] = req_users['bio'].apply(lambda x: len(x.split()))\n",
    "\n",
    "X = req_users[['bio_length']]\n",
    "y = req_users['followers']\n",
    "\n",
    "model = LinearRegression()\n",
    "model.fit(X, y)\n",
    "\n",
    "print(f'Slope of followers on bio word count: {model.coef_[0]:.3f}')"
   ]
  },
  {
   "cell_type": "markdown",
   "id": "e3647783",
   "metadata": {},
   "source": [
    "# Question 14"
   ]
  },
  {
   "cell_type": "code",
   "execution_count": 20,
   "id": "889b0ed0",
   "metadata": {},
   "outputs": [
    {
     "name": "stdout",
     "output_type": "stream",
     "text": [
      "JonnyBurger,syzer,kynan,nicnocquee,simonaco\n"
     ]
    }
   ],
   "source": [
    "weekend_repos = repos_df.copy()\n",
    "weekend_repos['created_at'] = pd.to_datetime(weekend_repos['created_at'])\n",
    "\n",
    "weekend_repos = weekend_repos[(weekend_repos['created_at'].dt.day_of_week == 5) | (weekend_repos['created_at'].dt.day_of_week == 6)]\n",
    "\n",
    "top_users = weekend_repos.groupby('login').size().reset_index(name='repo_count')\n",
    "\n",
    "top_users = top_users.sort_values(by='repo_count', ascending=False).head(5)\n",
    "\n",
    "print(f\"{','.join(top_users['login'].to_list())}\")\n"
   ]
  },
  {
   "cell_type": "markdown",
   "id": "c91d7a25",
   "metadata": {},
   "source": [
    "# Question 15"
   ]
  },
  {
   "cell_type": "code",
   "execution_count": 21,
   "id": "a5dac721",
   "metadata": {},
   "outputs": [
    {
     "name": "stdout",
     "output_type": "stream",
     "text": [
      "0.068\n"
     ]
    }
   ],
   "source": [
    "hireable_users = users_df[users_df['hireable'] == True]\n",
    "other_users = users_df[users_df['hireable'] != True]\n",
    "\n",
    "hireable_users_fraction = hireable_users['email'].notnull().sum() / len(hireable_users)\n",
    "other_users_fraction = other_users['email'].notnull().sum() / len(other_users)\n",
    "\n",
    "print(f\"{(hireable_users_fraction - other_users_fraction):.3f}\")"
   ]
  },
  {
   "cell_type": "markdown",
   "id": "453477d8",
   "metadata": {},
   "source": [
    "# Question 16"
   ]
  },
  {
   "cell_type": "code",
   "execution_count": 23,
   "id": "19d35eb3",
   "metadata": {},
   "outputs": [
    {
     "name": "stdout",
     "output_type": "stream",
     "text": [
      "Li,Wang\n"
     ]
    }
   ],
   "source": [
    "users_df_copy = users_df.copy()\n",
    "users_df_copy = users_df_copy[users_df_copy['name'].notnull()]\n",
    "\n",
    "users_df_copy.loc[:, 'last_name'] = users_df_copy['name'].apply(lambda x: x.strip().split()[-1])\n",
    "surname_counts = users_df_copy['last_name'].value_counts()\n",
    "\n",
    "max_count = surname_counts.max()\n",
    "\n",
    "max_surname_counts = surname_counts[surname_counts == max_count].index.tolist()\n",
    "\n",
    "max_surname_counts.sort()\n",
    "\n",
    "print(','.join(max_surname_counts))"
   ]
  }
 ],
 "metadata": {
  "kernelspec": {
   "display_name": "Python 3",
   "language": "python",
   "name": "python3"
  },
  "language_info": {
   "codemirror_mode": {
    "name": "ipython",
    "version": 3
   },
   "file_extension": ".py",
   "mimetype": "text/x-python",
   "name": "python",
   "nbconvert_exporter": "python",
   "pygments_lexer": "ipython3",
   "version": "3.12.1"
  }
 },
 "nbformat": 4,
 "nbformat_minor": 5
}
